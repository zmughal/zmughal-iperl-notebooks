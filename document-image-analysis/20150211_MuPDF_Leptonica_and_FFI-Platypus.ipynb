{
 "cells": [
  {
   "cell_type": "markdown",
   "metadata": {},
   "source": [
    "# MuPDF, Leptonica, and FFI::Platypus\n",
    "\n",
    "Experimenting with native bindings and image processing."
   ]
  },
  {
   "cell_type": "code",
   "execution_count": 1,
   "metadata": {
    "collapsed": false,
    "scrolled": true
   },
   "outputs": [],
   "source": [
    "use v5.16;\n",
    "use FFI::Platypus;\n",
    "use FFI::CheckLib qw( find_lib_or_die );\n",
    "use Alien::MuPDF;\n",
    "use Alien::Leptonica;\n",
    "use HTTP::Tiny;\n",
    "use List::AllUtils;\n",
    "use DDP;\n",
    "\n",
    "my $ffi = FFI::Platypus->new;\n",
    "my $ua = HTTP::Tiny->new; undef"
   ]
  },
  {
   "cell_type": "markdown",
   "metadata": {},
   "source": [
    "The first library that we want to use is MuPDF. This library is used for fast PDF rendering. The documentation is available [here](http://www.mupdf.com/docs/). Let's look at some example code from the documentation:"
   ]
  },
  {
   "cell_type": "code",
   "execution_count": 21,
   "metadata": {
    "collapsed": false,
    "scrolled": false
   },
   "outputs": [
    {
     "data": {
      "text/html": [
       "<!DOCTYPE html>\n",
       "<html>\n",
       "<head>\n",
       "<meta charset=\"ISO-8859-1\">\n",
       "<title>Source file</title>\n",
       "</head>\n",
       "<body>\n",
       "<pre style=\"color:#dcdccc; background-color:#1f1f1f; font-size:10pt; font-family:'Courier New',monospace;\"><span style=\"color:#9fafaf\">    1 </span><span style=\"color:#7f9f7f; font-style:italic\">// Rendering a page of a PDF document to a PNG image in less than 100 lines.</span>\n",
       "<span style=\"color:#9fafaf\">    2 </span>\n",
       "<span style=\"color:#9fafaf\">    3 </span><span style=\"color:#7f9f7f; font-style:italic\">// Compile a debug build of mupdf, then compile and run this example:</span>\n",
       "<span style=\"color:#9fafaf\">    4 </span><span style=\"color:#7f9f7f; font-style:italic\">//</span>\n",
       "<span style=\"color:#9fafaf\">    5 </span><span style=\"color:#7f9f7f; font-style:italic\">// gcc -g -o build/debug/example -Iinclude docs/example.c \\</span>\n",
       "<span style=\"color:#9fafaf\">    6 </span><span style=\"color:#7f9f7f; font-style:italic\">//\tbuild/debug/libmupdf.a build/debug/libmupdf-js-none.a \\</span>\n",
       "<span style=\"color:#9fafaf\">    7 </span><span style=\"color:#7f9f7f; font-style:italic\">//\tbuild/debug/libfreetype.a build/debug/libjbig2dec.a \\</span>\n",
       "<span style=\"color:#9fafaf\">    8 </span><span style=\"color:#7f9f7f; font-style:italic\">//\tbuild/debug/libjpeg.a build/debug/libopenjpeg.a \\</span>\n",
       "<span style=\"color:#9fafaf\">    9 </span><span style=\"color:#7f9f7f; font-style:italic\">//\tbuild/debug/libz.a -lm</span>\n",
       "<span style=\"color:#9fafaf\">   10 </span><span style=\"color:#7f9f7f; font-style:italic\">//</span>\n",
       "<span style=\"color:#9fafaf\">   11 </span><span style=\"color:#7f9f7f; font-style:italic\">// build/debug/example /path/to/document.pdf 1 200 25</span>\n",
       "<span style=\"color:#9fafaf\">   12 </span>\n",
       "<span style=\"color:#9fafaf\">   13 </span><span style=\"color:#7f9f7f; font-style:italic\">// Include the MuPDF header file.</span>\n",
       "<span style=\"color:#9fafaf\">   14 </span><span style=\"color:#ffcfaf; font-weight:bold\">#include &lt;mupdf/fitz.h&gt;</span>\n",
       "<span style=\"color:#9fafaf\">   15 </span>\n",
       "<span style=\"color:#9fafaf\">   16 </span><span style=\"color:#dfdfbf; font-weight:bold\">void</span>\n",
       "<span style=\"color:#9fafaf\">   17 </span><span style=\"color:#aabfe3\">render</span><span style=\"color:#dcdccc\">(</span><span style=\"color:#dfdfbf; font-weight:bold\">char</span> <span style=\"color:#dcdccc\">*</span>filename<span style=\"color:#dcdccc\">,</span> <span style=\"color:#dfdfbf; font-weight:bold\">int</span> pagenumber<span style=\"color:#dcdccc\">,</span> <span style=\"color:#dfdfbf; font-weight:bold\">int</span> zoom<span style=\"color:#dcdccc\">,</span> <span style=\"color:#dfdfbf; font-weight:bold\">int</span> rotation<span style=\"color:#dcdccc\">)</span>\n",
       "<span style=\"color:#9fafaf\">   18 </span><span style=\"color:#dcdccc\">{</span>\n",
       "<span style=\"color:#9fafaf\">   19 </span>\t<span style=\"color:#7f9f7f; font-style:italic\">// Create a context to hold the exception stack and various caches.</span>\n",
       "<span style=\"color:#9fafaf\">   20 </span>\n",
       "<span style=\"color:#9fafaf\">   21 </span>\tfz_context <span style=\"color:#dcdccc\">*</span>ctx <span style=\"color:#dcdccc\">=</span> <span style=\"color:#aabfe3\">fz_new_context</span><span style=\"color:#dcdccc\">(</span>NULL<span style=\"color:#dcdccc\">,</span> NULL<span style=\"color:#dcdccc\">,</span> FZ_STORE_UNLIMITED<span style=\"color:#dcdccc\">);</span>\n",
       "<span style=\"color:#9fafaf\">   22 </span>\n",
       "<span style=\"color:#9fafaf\">   23 </span>\t<span style=\"color:#7f9f7f; font-style:italic\">// Register document handlers for the default file types we support.</span>\n",
       "<span style=\"color:#9fafaf\">   24 </span>\n",
       "<span style=\"color:#9fafaf\">   25 </span>\t<span style=\"color:#aabfe3\">fz_register_document_handlers</span><span style=\"color:#dcdccc\">(</span>ctx<span style=\"color:#dcdccc\">);</span>\n",
       "<span style=\"color:#9fafaf\">   26 </span>\n",
       "<span style=\"color:#9fafaf\">   27 </span>\t<span style=\"color:#7f9f7f; font-style:italic\">// Open the PDF, XPS or CBZ document.</span>\n",
       "<span style=\"color:#9fafaf\">   28 </span>\n",
       "<span style=\"color:#9fafaf\">   29 </span>\tfz_document <span style=\"color:#dcdccc\">*</span>doc <span style=\"color:#dcdccc\">=</span> <span style=\"color:#aabfe3\">fz_open_document</span><span style=\"color:#dcdccc\">(</span>ctx<span style=\"color:#dcdccc\">,</span> filename<span style=\"color:#dcdccc\">);</span>\n",
       "<span style=\"color:#9fafaf\">   30 </span>\n",
       "<span style=\"color:#9fafaf\">   31 </span>\t<span style=\"color:#7f9f7f; font-style:italic\">// Retrieve the number of pages (not used in this example).</span>\n",
       "<span style=\"color:#9fafaf\">   32 </span>\n",
       "<span style=\"color:#9fafaf\">   33 </span>\t<span style=\"color:#dfdfbf; font-weight:bold\">int</span> pagecount <span style=\"color:#dcdccc\">=</span> <span style=\"color:#aabfe3\">fz_count_pages</span><span style=\"color:#dcdccc\">(</span>doc<span style=\"color:#dcdccc\">);</span>\n",
       "<span style=\"color:#9fafaf\">   34 </span>\n",
       "<span style=\"color:#9fafaf\">   35 </span>\t<span style=\"color:#7f9f7f; font-style:italic\">// Load the page we want. Page numbering starts from zero.</span>\n",
       "<span style=\"color:#9fafaf\">   36 </span>\n",
       "<span style=\"color:#9fafaf\">   37 </span>\tfz_page <span style=\"color:#dcdccc\">*</span>page <span style=\"color:#dcdccc\">=</span> <span style=\"color:#aabfe3\">fz_load_page</span><span style=\"color:#dcdccc\">(</span>doc<span style=\"color:#dcdccc\">,</span> pagenumber <span style=\"color:#dcdccc\">-</span> <span style=\"color:#dca3a3; font-weight:bold\">1</span><span style=\"color:#dcdccc\">);</span>\n",
       "<span style=\"color:#9fafaf\">   38 </span>\n",
       "<span style=\"color:#9fafaf\">   39 </span>\t<span style=\"color:#7f9f7f; font-style:italic\">// Calculate a transform to use when rendering. This transform</span>\n",
       "<span style=\"color:#9fafaf\">   40 </span>\t<span style=\"color:#7f9f7f; font-style:italic\">// contains the scale and rotation. Convert zoom percentage to a</span>\n",
       "<span style=\"color:#9fafaf\">   41 </span>\t<span style=\"color:#7f9f7f; font-style:italic\">// scaling factor. Without scaling the resolution is 72 dpi.</span>\n",
       "<span style=\"color:#9fafaf\">   42 </span>\n",
       "<span style=\"color:#9fafaf\">   43 </span>\tfz_matrix transform<span style=\"color:#dcdccc\">;</span>\n",
       "<span style=\"color:#9fafaf\">   44 </span>\t<span style=\"color:#aabfe3\">fz_rotate</span><span style=\"color:#dcdccc\">(&amp;</span>transform<span style=\"color:#dcdccc\">,</span> rotation<span style=\"color:#dcdccc\">);</span>\n",
       "<span style=\"color:#9fafaf\">   45 </span>\t<span style=\"color:#aabfe3\">fz_pre_scale</span><span style=\"color:#dcdccc\">(&amp;</span>transform<span style=\"color:#dcdccc\">,</span> zoom <span style=\"color:#dcdccc\">/</span> <span style=\"color:#dca3a3; font-weight:bold\">100.0</span>f<span style=\"color:#dcdccc\">,</span> zoom <span style=\"color:#dcdccc\">/</span> <span style=\"color:#dca3a3; font-weight:bold\">100.0</span>f<span style=\"color:#dcdccc\">);</span>\n",
       "<span style=\"color:#9fafaf\">   46 </span>\n",
       "<span style=\"color:#9fafaf\">   47 </span>\t<span style=\"color:#7f9f7f; font-style:italic\">// Take the page bounds and transform them by the same matrix that</span>\n",
       "<span style=\"color:#9fafaf\">   48 </span>\t<span style=\"color:#7f9f7f; font-style:italic\">// we will use to render the page.</span>\n",
       "<span style=\"color:#9fafaf\">   49 </span>\n",
       "<span style=\"color:#9fafaf\">   50 </span>\tfz_rect bounds<span style=\"color:#dcdccc\">;</span>\n",
       "<span style=\"color:#9fafaf\">   51 </span>\t<span style=\"color:#aabfe3\">fz_bound_page</span><span style=\"color:#dcdccc\">(</span>doc<span style=\"color:#dcdccc\">,</span> page<span style=\"color:#dcdccc\">, &amp;</span>bounds<span style=\"color:#dcdccc\">);</span>\n",
       "<span style=\"color:#9fafaf\">   52 </span>\t<span style=\"color:#aabfe3\">fz_transform_rect</span><span style=\"color:#dcdccc\">(&amp;</span>bounds<span style=\"color:#dcdccc\">, &amp;</span>transform<span style=\"color:#dcdccc\">);</span>\n",
       "<span style=\"color:#9fafaf\">   53 </span>\n",
       "<span style=\"color:#9fafaf\">   54 </span>\t<span style=\"color:#7f9f7f; font-style:italic\">// Create a blank pixmap to hold the result of rendering. The</span>\n",
       "<span style=\"color:#9fafaf\">   55 </span>\t<span style=\"color:#7f9f7f; font-style:italic\">// pixmap bounds used here are the same as the transformed page</span>\n",
       "<span style=\"color:#9fafaf\">   56 </span>\t<span style=\"color:#7f9f7f; font-style:italic\">// bounds, so it will contain the entire page. The page coordinate</span>\n",
       "<span style=\"color:#9fafaf\">   57 </span>\t<span style=\"color:#7f9f7f; font-style:italic\">// space has the origin at the top left corner and the x axis</span>\n",
       "<span style=\"color:#9fafaf\">   58 </span>\t<span style=\"color:#7f9f7f; font-style:italic\">// extends to the right and the y axis extends down.</span>\n",
       "<span style=\"color:#9fafaf\">   59 </span>\n",
       "<span style=\"color:#9fafaf\">   60 </span>\tfz_irect bbox<span style=\"color:#dcdccc\">;</span>\n",
       "<span style=\"color:#9fafaf\">   61 </span>\t<span style=\"color:#aabfe3\">fz_round_rect</span><span style=\"color:#dcdccc\">(&amp;</span>bbox<span style=\"color:#dcdccc\">, &amp;</span>bounds<span style=\"color:#dcdccc\">);</span>\n",
       "<span style=\"color:#9fafaf\">   62 </span>\tfz_pixmap <span style=\"color:#dcdccc\">*</span>pix <span style=\"color:#dcdccc\">=</span> <span style=\"color:#aabfe3\">fz_new_pixmap_with_bbox</span><span style=\"color:#dcdccc\">(</span>ctx<span style=\"color:#dcdccc\">,</span> <span style=\"color:#aabfe3\">fz_device_rgb</span><span style=\"color:#dcdccc\">(</span>ctx<span style=\"color:#dcdccc\">), &amp;</span>bbox<span style=\"color:#dcdccc\">);</span>\n",
       "<span style=\"color:#9fafaf\">   63 </span>\t<span style=\"color:#aabfe3\">fz_clear_pixmap_with_value</span><span style=\"color:#dcdccc\">(</span>ctx<span style=\"color:#dcdccc\">,</span> pix<span style=\"color:#dcdccc\">,</span> <span style=\"color:#dca3a3; font-weight:bold\">0xff</span><span style=\"color:#dcdccc\">);</span>\n",
       "<span style=\"color:#9fafaf\">   64 </span>\n",
       "<span style=\"color:#9fafaf\">   65 </span>\t<span style=\"color:#7f9f7f; font-style:italic\">// A page consists of a series of objects (text, line art, images,</span>\n",
       "<span style=\"color:#9fafaf\">   66 </span>\t<span style=\"color:#7f9f7f; font-style:italic\">// gradients). These objects are passed to a device when the</span>\n",
       "<span style=\"color:#9fafaf\">   67 </span>\t<span style=\"color:#7f9f7f; font-style:italic\">// interpreter runs the page. There are several devices, used for</span>\n",
       "<span style=\"color:#9fafaf\">   68 </span>\t<span style=\"color:#7f9f7f; font-style:italic\">// different purposes:</span>\n",
       "<span style=\"color:#9fafaf\">   69 </span>\t<span style=\"color:#7f9f7f; font-style:italic\">//</span>\n",
       "<span style=\"color:#9fafaf\">   70 </span>\t<span style=\"color:#7f9f7f; font-style:italic\">//\tdraw device -- renders objects to a target pixmap.</span>\n",
       "<span style=\"color:#9fafaf\">   71 </span>\t<span style=\"color:#7f9f7f; font-style:italic\">//</span>\n",
       "<span style=\"color:#9fafaf\">   72 </span>\t<span style=\"color:#7f9f7f; font-style:italic\">//\ttext device -- extracts the text in reading order with styling</span>\n",
       "<span style=\"color:#9fafaf\">   73 </span>\t<span style=\"color:#7f9f7f; font-style:italic\">//\tinformation. This text can be used to provide text search.</span>\n",
       "<span style=\"color:#9fafaf\">   74 </span>\t<span style=\"color:#7f9f7f; font-style:italic\">//</span>\n",
       "<span style=\"color:#9fafaf\">   75 </span>\t<span style=\"color:#7f9f7f; font-style:italic\">//\tlist device -- records the graphic objects in a list that can</span>\n",
       "<span style=\"color:#9fafaf\">   76 </span>\t<span style=\"color:#7f9f7f; font-style:italic\">//\tbe played back through another device. This is useful if you</span>\n",
       "<span style=\"color:#9fafaf\">   77 </span>\t<span style=\"color:#7f9f7f; font-style:italic\">//\tneed to run the same page through multiple devices, without</span>\n",
       "<span style=\"color:#9fafaf\">   78 </span>\t<span style=\"color:#7f9f7f; font-style:italic\">//\tthe overhead of parsing the page each time.</span>\n",
       "<span style=\"color:#9fafaf\">   79 </span>\n",
       "<span style=\"color:#9fafaf\">   80 </span>\t<span style=\"color:#7f9f7f; font-style:italic\">// Create a draw device with the pixmap as its target.</span>\n",
       "<span style=\"color:#9fafaf\">   81 </span>\t<span style=\"color:#7f9f7f; font-style:italic\">// Run the page with the transform.</span>\n",
       "<span style=\"color:#9fafaf\">   82 </span>\n",
       "<span style=\"color:#9fafaf\">   83 </span>\tfz_device <span style=\"color:#dcdccc\">*</span>dev <span style=\"color:#dcdccc\">=</span> <span style=\"color:#aabfe3\">fz_new_draw_device</span><span style=\"color:#dcdccc\">(</span>ctx<span style=\"color:#dcdccc\">,</span> pix<span style=\"color:#dcdccc\">);</span>\n",
       "<span style=\"color:#9fafaf\">   84 </span>\t<span style=\"color:#aabfe3\">fz_run_page</span><span style=\"color:#dcdccc\">(</span>doc<span style=\"color:#dcdccc\">,</span> page<span style=\"color:#dcdccc\">,</span> dev<span style=\"color:#dcdccc\">, &amp;</span>transform<span style=\"color:#dcdccc\">,</span> NULL<span style=\"color:#dcdccc\">);</span>\n",
       "<span style=\"color:#9fafaf\">   85 </span>\t<span style=\"color:#aabfe3\">fz_free_device</span><span style=\"color:#dcdccc\">(</span>dev<span style=\"color:#dcdccc\">);</span>\n",
       "<span style=\"color:#9fafaf\">   86 </span>\n",
       "<span style=\"color:#9fafaf\">   87 </span>\t<span style=\"color:#7f9f7f; font-style:italic\">// Save the pixmap to a file.</span>\n",
       "<span style=\"color:#9fafaf\">   88 </span>\n",
       "<span style=\"color:#9fafaf\">   89 </span>\t<span style=\"color:#aabfe3\">fz_write_png</span><span style=\"color:#dcdccc\">(</span>ctx<span style=\"color:#dcdccc\">,</span> pix<span style=\"color:#dcdccc\">,</span> <span style=\"color:#cc9393\">&quot;out.png&quot;</span><span style=\"color:#dcdccc\">,</span> <span style=\"color:#dca3a3; font-weight:bold\">0</span><span style=\"color:#dcdccc\">);</span>\n",
       "<span style=\"color:#9fafaf\">   90 </span>\n",
       "<span style=\"color:#9fafaf\">   91 </span>\t<span style=\"color:#7f9f7f; font-style:italic\">// Clean up.</span>\n",
       "<span style=\"color:#9fafaf\">   92 </span>\n",
       "<span style=\"color:#9fafaf\">   93 </span>\t<span style=\"color:#aabfe3\">fz_drop_pixmap</span><span style=\"color:#dcdccc\">(</span>ctx<span style=\"color:#dcdccc\">,</span> pix<span style=\"color:#dcdccc\">);</span>\n",
       "<span style=\"color:#9fafaf\">   94 </span>\t<span style=\"color:#aabfe3\">fz_free_page</span><span style=\"color:#dcdccc\">(</span>doc<span style=\"color:#dcdccc\">,</span> page<span style=\"color:#dcdccc\">);</span>\n",
       "<span style=\"color:#9fafaf\">   95 </span>\t<span style=\"color:#aabfe3\">fz_close_document</span><span style=\"color:#dcdccc\">(</span>doc<span style=\"color:#dcdccc\">);</span>\n",
       "<span style=\"color:#9fafaf\">   96 </span>\t<span style=\"color:#aabfe3\">fz_free_context</span><span style=\"color:#dcdccc\">(</span>ctx<span style=\"color:#dcdccc\">);</span>\n",
       "<span style=\"color:#9fafaf\">   97 </span><span style=\"color:#dcdccc\">}</span>\n",
       "<span style=\"color:#9fafaf\">   98 </span>\n",
       "<span style=\"color:#9fafaf\">   99 </span><span style=\"color:#dfdfbf; font-weight:bold\">int</span> <span style=\"color:#aabfe3\">main</span><span style=\"color:#dcdccc\">(</span><span style=\"color:#dfdfbf; font-weight:bold\">int</span> argc<span style=\"color:#dcdccc\">,</span> <span style=\"color:#dfdfbf; font-weight:bold\">char</span> <span style=\"color:#dcdccc\">**</span>argv<span style=\"color:#dcdccc\">)</span>\n",
       "<span style=\"color:#9fafaf\">  100 </span><span style=\"color:#dcdccc\">{</span>\n",
       "<span style=\"color:#9fafaf\">  101 </span>\t<span style=\"color:#dfdfbf; font-weight:bold\">char</span> <span style=\"color:#dcdccc\">*</span>filename <span style=\"color:#dcdccc\">=</span> argc <span style=\"color:#dcdccc\">&gt;=</span> <span style=\"color:#dca3a3; font-weight:bold\">2</span> ? argv<span style=\"color:#dcdccc\">[</span><span style=\"color:#dca3a3; font-weight:bold\">1</span><span style=\"color:#dcdccc\">] :</span> <span style=\"color:#cc9393\">&quot;&quot;</span><span style=\"color:#dcdccc\">;</span>\n",
       "<span style=\"color:#9fafaf\">  102 </span>\t<span style=\"color:#dfdfbf; font-weight:bold\">int</span> pagenumber <span style=\"color:#dcdccc\">=</span> argc <span style=\"color:#dcdccc\">&gt;</span> <span style=\"color:#dca3a3; font-weight:bold\">2</span> ? <span style=\"color:#aabfe3\">atoi</span><span style=\"color:#dcdccc\">(</span>argv<span style=\"color:#dcdccc\">[</span><span style=\"color:#dca3a3; font-weight:bold\">2</span><span style=\"color:#dcdccc\">]) :</span> <span style=\"color:#dca3a3; font-weight:bold\">1</span><span style=\"color:#dcdccc\">;</span>\n",
       "<span style=\"color:#9fafaf\">  103 </span>\t<span style=\"color:#dfdfbf; font-weight:bold\">int</span> zoom <span style=\"color:#dcdccc\">=</span> argc <span style=\"color:#dcdccc\">&gt;</span> <span style=\"color:#dca3a3; font-weight:bold\">3</span> ? <span style=\"color:#aabfe3\">atoi</span><span style=\"color:#dcdccc\">(</span>argv<span style=\"color:#dcdccc\">[</span><span style=\"color:#dca3a3; font-weight:bold\">3</span><span style=\"color:#dcdccc\">]) :</span> <span style=\"color:#dca3a3; font-weight:bold\">100</span><span style=\"color:#dcdccc\">;</span>\n",
       "<span style=\"color:#9fafaf\">  104 </span>\t<span style=\"color:#dfdfbf; font-weight:bold\">int</span> rotation <span style=\"color:#dcdccc\">=</span> argc <span style=\"color:#dcdccc\">&gt;</span> <span style=\"color:#dca3a3; font-weight:bold\">4</span> ? <span style=\"color:#aabfe3\">atoi</span><span style=\"color:#dcdccc\">(</span>argv<span style=\"color:#dcdccc\">[</span><span style=\"color:#dca3a3; font-weight:bold\">4</span><span style=\"color:#dcdccc\">]) :</span> <span style=\"color:#dca3a3; font-weight:bold\">0</span><span style=\"color:#dcdccc\">;</span>\n",
       "<span style=\"color:#9fafaf\">  105 </span>\n",
       "<span style=\"color:#9fafaf\">  106 </span>\t<span style=\"color:#aabfe3\">render</span><span style=\"color:#dcdccc\">(</span>filename<span style=\"color:#dcdccc\">,</span> pagenumber<span style=\"color:#dcdccc\">,</span> zoom<span style=\"color:#dcdccc\">,</span> rotation<span style=\"color:#dcdccc\">);</span>\n",
       "<span style=\"color:#9fafaf\">  107 </span>\t<span style=\"color:#e3ceab\">return</span> <span style=\"color:#dca3a3; font-weight:bold\">0</span><span style=\"color:#dcdccc\">;</span>\n",
       "<span style=\"color:#9fafaf\">  108 </span><span style=\"color:#dcdccc\">}</span>\n",
       "</pre>\n",
       "</body>\n",
       "</html>\n",
       "<!--HTML generated by highlight 3.18, http://www.andre-simon.de/-->\n"
      ]
     },
     "metadata": {},
     "output_type": "display_data"
    }
   ],
   "source": [
    "# magic incantation to highlight the example C code\n",
    "my $example_uri = \"http://www.mupdf.com/docs/example.c\";\n",
    "my $html = `curl -q '$example_uri' 2>/dev/null | highlight -l -s zenburn --css=/dev/null --inline-css -O html -S c`;\n",
    "$html =~ s/<body[^>]*>/<body>/; # some cleanup to remove background from <body>\n",
    "IPerl->html( $html )"
   ]
  },
  {
   "cell_type": "code",
   "execution_count": 22,
   "metadata": {
    "collapsed": false
   },
   "outputs": [
    {
     "data": {
      "text/plain": [
       "FZ_STORE_UNLIMITED, fz_bound_page, fz_clear_pixmap_with_value, fz_close_document, fz_context, fz_count_pages, fz_device, fz_device_rgb, fz_document, fz_drop_pixmap, fz_free_context, fz_free_device, fz_free_page, fz_irect, fz_load_page, fz_matrix, fz_new_context, fz_new_draw_device, fz_new_pixmap_with_bbox, fz_open_document, fz_page, fz_pixmap, fz_pre_scale, fz_rect, fz_register_document_handlers, fz_rotate, fz_round_rect, fz_run_page, fz_transform_rect, fz_write_png\n"
      ]
     },
     "execution_count": 22,
     "metadata": {},
     "output_type": "execute_result"
    },
    {
     "name": "stderr",
     "output_type": "stream",
     "text": [
      "1\n"
     ]
    }
   ],
   "source": [
    "my $example_response = $ua->get( $example_uri );\n",
    "my $example_source_code = $example_response->{content};\n",
    "\n",
    "my @fz_symbols = sort { $a cmp $b } List::AllUtils::uniq(  $example_source_code =~ /fz_\\w+/gi );\n",
    "say join \", \", @fz_symbols;"
   ]
  },
  {
   "cell_type": "code",
   "execution_count": null,
   "metadata": {
    "collapsed": true
   },
   "outputs": [],
   "source": [
    "\n",
    "\n"
   ]
  },
  {
   "cell_type": "code",
   "execution_count": 16,
   "metadata": {
    "collapsed": false,
    "scrolled": true
   },
   "outputs": [
    {
     "data": {
      "text/plain": [
       "\n",
       "\n"
      ]
     },
     "execution_count": 16,
     "metadata": {},
     "output_type": "execute_result"
    },
    {
     "name": "stderr",
     "output_type": "stream",
     "text": [
      "1\n"
     ]
    },
    {
     "ename": "Warning",
     "evalue": "Subroutine dl_load_flags redefined at (eval 2367) line 8.\n\nSubroutine MuPDF::get_fitz_version redefined at (eval 2367) line 9.\n",
     "output_type": "error",
     "traceback": [
      "Subroutine dl_load_flags redefined at (eval 2367) line 8.\n\nSubroutine MuPDF::get_fitz_version redefined at (eval 2367) line 9.\n"
     ]
    }
   ],
   "source": [
    "package MuPDF {\n",
    "    use Inline with => qw(Alien::MuPDF);\n",
    "    use Inline C => CONFIG => ENABLE => AUTOWRAP =>\n",
    "        BOOT => <<'END_BOOT_C'; \n",
    "            /* constants from mupdf/fitz/context.h */\n",
    "            HV *stash = gv_stashpvn (\"MuPDF\", strlen(\"MuPDF\"), TRUE);\n",
    "            newCONSTSUB(stash, \"FZ_STORE_UNLIMITED\", newSViv  (FZ_STORE_UNLIMITED));\n",
    "            newCONSTSUB(stash, \"FZ_STORE_DEFAULT\"  , newSViv  (FZ_STORE_DEFAULT));\n",
    "            newCONSTSUB(stash, \"FZ_VERSION\"        , newSVpvn (FZ_VERSION, strlen(FZ_VERSION)));\n",
    "END_BOOT_C\n",
    "    use Inline C => <<'C';\n",
    "\n",
    "    char* get_fitz_version() {\n",
    "        return FZ_VERSION;\n",
    "    }\n",
    "\n",
    "C\n",
    "\n",
    "\n",
    "};\n",
    "\n",
    "say MuPDF::get_fitz_version();\n",
    "\n",
    "\n",
    "\n"
   ]
  },
  {
   "cell_type": "markdown",
   "metadata": {},
   "source": [
    "https://metacpan.org/pod/Module::Build::FFI"
   ]
  },
  {
   "cell_type": "code",
   "execution_count": 24,
   "metadata": {
    "collapsed": false,
    "scrolled": true
   },
   "outputs": [],
   "source": [
    "$ffi->lib(find_lib_or_die lib => 'lept'); undef;"
   ]
  },
  {
   "cell_type": "code",
   "execution_count": 24,
   "metadata": {
    "collapsed": false,
    "scrolled": true
   },
   "outputs": [
    {
     "data": {
      "text/plain": [
       "\u001b[0m\\ [\n",
       "    \u001b[97m[0]  \u001b[0m\"\u001b[93mFZ_STORE_UNLIMITED\u001b[0m\",\n",
       "    \u001b[97m[1]  \u001b[0m\"\u001b[93mfz_close_document\u001b[0m\",\n",
       "    \u001b[97m[2]  \u001b[0m\"\u001b[93mfz_context\u001b[0m\",\n",
       "    \u001b[97m[3]  \u001b[0m\"\u001b[93mfz_device\u001b[0m\",\n",
       "    \u001b[97m[4]  \u001b[0m\"\u001b[93mfz_document\u001b[0m\",\n",
       "    \u001b[97m[5]  \u001b[0m\"\u001b[93mfz_free_context\u001b[0m\",\n",
       "    \u001b[97m[6]  \u001b[0m\"\u001b[93mfz_free_device\u001b[0m\",\n",
       "    \u001b[97m[7]  \u001b[0m\"\u001b[93mfz_free_page\u001b[0m\",\n",
       "    \u001b[97m[8]  \u001b[0m\"\u001b[93mfz_irect\u001b[0m\",\n",
       "    \u001b[97m[9]  \u001b[0m\"\u001b[93mfz_matrix\u001b[0m\",\n",
       "    \u001b[97m[10] \u001b[0m\"\u001b[93mfz_new_context\u001b[0m\",\n",
       "    \u001b[97m[11] \u001b[0m\"\u001b[93mfz_page\u001b[0m\",\n",
       "    \u001b[97m[12] \u001b[0m\"\u001b[93mfz_pixmap\u001b[0m\",\n",
       "    \u001b[97m[13] \u001b[0m\"\u001b[93mfz_rect\u001b[0m\"\n",
       "]\u001b[0m\\ {\n",
       "    \u001b[35mfz_bound_page\u001b[0m                   [\n",
       "        \u001b[97m[0] \u001b[0m\"\u001b[93mfz_rect *fz_bound_page(fz_context *ctx, fz_page *page, fz_rect *rect);\u001b[0m\"\n",
       "    ],\n",
       "    \u001b[35mfz_clear_pixmap_with_value\u001b[0m      [\n",
       "        \u001b[97m[0] \u001b[0m\"\u001b[93mvoid fz_clear_pixmap_with_value(fz_context *ctx, fz_pixmap *pix, int value);\u001b[0m\"\n",
       "    ],\n",
       "    \u001b[35mfz_close_document\u001b[0m               [],\n",
       "    \u001b[35mfz_context\u001b[0m                      [],\n",
       "    \u001b[35mfz_count_pages\u001b[0m                  [\n",
       "        \u001b[97m[0] \u001b[0m\"\u001b[93mint fz_count_pages(fz_context *ctx, fz_document *doc);\u001b[0m\"\n",
       "    ],\n",
       "    \u001b[35mfz_device\u001b[0m                       [],\n",
       "    \u001b[35mfz_device_rgb\u001b[0m                   [\n",
       "        \u001b[97m[0] \u001b[0m\"\u001b[93mfz_colorspace *fz_device_rgb(fz_context *ctx);\u001b[0m\"\n",
       "    ],\n",
       "    \u001b[35mfz_document\u001b[0m                     [],\n",
       "    \u001b[35mfz_drop_pixmap\u001b[0m                  [\n",
       "        \u001b[97m[0] \u001b[0m\"\u001b[93mvoid fz_drop_pixmap(fz_context *ctx, fz_pixmap *pix);\u001b[0m\"\n",
       "    ],\n",
       "    \u001b[35mfz_free_context\u001b[0m                 [],\n",
       "    \u001b[35mfz_free_device\u001b[0m                  [],\n",
       "    \u001b[35mfz_free_page\u001b[0m                    [],\n",
       "    \u001b[35mfz_irect\u001b[0m                        [],\n",
       "    \u001b[35mfz_load_page\u001b[0m                    [\n",
       "        \u001b[97m[0] \u001b[0m\"\u001b[93mfz_page *fz_load_page(fz_context *ctx, fz_document *doc, int number);\u001b[0m\"\n",
       "    ],\n",
       "    \u001b[35mfz_matrix\u001b[0m                       [],\n",
       "    \u001b[35mfz_new_context\u001b[0m                  [],\n",
       "    \u001b[35mfz_new_draw_device\u001b[0m              [\n",
       "        \u001b[97m[0] \u001b[0m\"\u001b[93mfz_device *fz_new_draw_device(fz_context *ctx, fz_pixmap *dest);\u001b[0m\"\n",
       "    ],\n",
       "    \u001b[35mfz_new_pixmap_with_bbox\u001b[0m         [\n",
       "        \u001b[97m[0] \u001b[0m\"\u001b[93mfz_pixmap *fz_new_pixmap_with_bbox(fz_context *ctx, fz_colorspace *colorspace, const fz_irect *bbox);\u001b[0m\"\n",
       "    ],\n",
       "    \u001b[35mfz_open_document\u001b[0m                [\n",
       "        \u001b[97m[0] \u001b[0m\"\u001b[93mfz_document *fz_open_document(fz_context *ctx, const char *filename);\u001b[0m\"\n",
       "    ],\n",
       "    \u001b[35mfz_page\u001b[0m                         [],\n",
       "    \u001b[35mfz_pixmap\u001b[0m                       [],\n",
       "    \u001b[35mfz_pre_scale\u001b[0m                    [\n",
       "        \u001b[97m[0] \u001b[0m\"\u001b[93mfz_matrix *fz_pre_scale(fz_matrix *m, float sx, float sy);\u001b[0m\"\n",
       "    ],\n",
       "    \u001b[35mfz_rect\u001b[0m                         [],\n",
       "    \u001b[35mfz_register_document_handlers\u001b[0m   [\n",
       "        \u001b[97m[0] \u001b[0m\"\u001b[93mvoid fz_register_document_handlers(fz_context *ctx);\u001b[0m\"\n",
       "    ],\n",
       "    \u001b[35mfz_rotate\u001b[0m                       [\n",
       "        \u001b[97m[0] \u001b[0m\"\u001b[93mfz_matrix *fz_rotate(fz_matrix *m, float degrees);\u001b[0m\"\n",
       "    ],\n",
       "    \u001b[35mfz_round_rect\u001b[0m                   [\n",
       "        \u001b[97m[0] \u001b[0m\"\u001b[93mfz_irect *fz_round_rect(fz_irect *__restrict bbox, const fz_rect *__restrict rect);\u001b[0m\"\n",
       "    ],\n",
       "    \u001b[35mfz_run_page\u001b[0m                     [\n",
       "        \u001b[97m[0] \u001b[0m\"\u001b[93mvoid fz_run_page(fz_context *ctx, fz_page *page, fz_device *dev, const fz_matrix *transform, fz_cookie *cookie);\u001b[0m\"\n",
       "    ],\n",
       "    \u001b[35mFZ_STORE_UNLIMITED\u001b[0m              [],\n",
       "    \u001b[35mfz_transform_rect\u001b[0m               [\n",
       "        \u001b[97m[0] \u001b[0m\"\u001b[93mfz_rect *fz_transform_rect(fz_rect *__restrict rect, const fz_matrix *__restrict transform);\u001b[0m\"\n",
       "    ],\n",
       "    \u001b[35mfz_write_png\u001b[0m                    [\n",
       "        \u001b[97m[0] \u001b[0m\"\u001b[93mvoid fz_write_png(fz_context *ctx, fz_pixmap *pixmap, char *filename, int savealpha);\u001b[0m\"\n",
       "    ]\n",
       "}"
      ]
     },
     "execution_count": 24,
     "metadata": {},
     "output_type": "execute_result"
    },
    {
     "name": "stderr",
     "output_type": "stream",
     "text": [
      "1\n"
     ]
    }
   ],
   "source": [
    "##use MarpaX::Languages::C::Scan;\n",
    "use C::Scan; # this won't extract #define properly\n",
    "use Path::Class;\n",
    "\n",
    "my $fitz_include_dir = dir( Alien::MuPDF->cflags =~ /-I([^ ]*)/);\n",
    "my $fitz_filename = $fitz_include_dir->file(qw(mupdf fitz.h));\n",
    "\n",
    "\n",
    "my $scan = C::Scan->new( filename => $fitz_filename, includeDirs => [$fitz_include_dir] );\n",
    "# my $scan = MarpaX::Languages::C::Scan->new( filename => $fitz_filename, cppflags => \"-I$fitz_include_dir\" );\n",
    "\n",
    "#system( qq|c2ast --progress $fitz_filename --cpp cpp --cpp \"-I$fitz_include_dir\"| );\n",
    "\n",
    "my $funcs = $scan->get('fdecls');\n",
    "my $macros = $scan->get('defines_no_args');\n",
    "my $fz_typedefs;\n",
    "my $fz_symbols_to_def;\n",
    "\n",
    "for my $symbol (@fz_symbols) {\n",
    "    $fz_symbols_to_def->{$symbol} = [];\n",
    "    \n",
    "    my @funcs_for_symbol = grep { /$symbol\\(/ } @$funcs;\n",
    "    my @macros_for_symbol = grep { /$symbol\\(/ } keys %$macros;\n",
    "\n",
    "    push @{ $fz_symbols_to_def->{$symbol} }, @funcs_for_symbol;\n",
    "    push @{ $fz_symbols_to_def->{$symbol} }, @$macros{@macros_for_symbol};\n",
    "\n",
    "    \n",
    "    push @$fz_typedefs, $symbol unless ~~ @funcs_for_symbol || ~~ @macros_for_symbol;\n",
    "}\n",
    "\n",
    "\n",
    "use DDP; print p $fz_typedefs;\n",
    "use DDP; print p $fz_symbols_to_def;"
   ]
  },
  {
   "cell_type": "code",
   "execution_count": null,
   "metadata": {
    "collapsed": true
   },
   "outputs": [],
   "source": []
  }
 ],
 "metadata": {
  "kernelspec": {
   "display_name": "IPerl 0.005",
   "language": "perl",
   "name": "iperl"
  },
  "language": "Perl",
  "language_info": {
   "file_extension": ".pl",
   "mimetype": "text/x-perl",
   "name": "perl",
   "version": "5.18.4"
  }
 },
 "nbformat": 4,
 "nbformat_minor": 0
}
